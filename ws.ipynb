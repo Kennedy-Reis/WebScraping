{
 "cells": [
  {
   "cell_type": "code",
   "execution_count": null,
   "id": "50d6032b",
   "metadata": {},
   "outputs": [],
   "source": [
    "import gspread\n",
    "import os\n",
    "import pandas as pd\n",
    "from gspread_dataframe import set_with_dataframe\n",
    "from google.oauth2 import service_account\n",
    "from bs4 import BeautifulSoup\n",
    "from urllib.request import urlopen,Request"
   ]
  },
  {
   "cell_type": "code",
   "execution_count": null,
   "id": "887f6de0",
   "metadata": {},
   "outputs": [],
   "source": [
    "signos = ['aries','touro','gemeos','cancer','leao','virgem','libra','escorpiao','sagitario','capricornio','aquario','peixes']"
   ]
  },
  {
   "cell_type": "code",
   "execution_count": null,
   "id": "417dcf28",
   "metadata": {},
   "outputs": [],
   "source": [
    "url = 'https://joaobidu.com.br/horoscopo/signos/previsao-'"
   ]
  },
  {
   "cell_type": "code",
   "execution_count": null,
   "id": "1cb8e8f6",
   "metadata": {},
   "outputs": [],
   "source": [
    "url_imagem = 'https://joaobidu.com.br/static/img/'"
   ]
  },
  {
   "cell_type": "code",
   "execution_count": null,
   "id": "64cdcee3",
   "metadata": {},
   "outputs": [],
   "source": [
    "lista_texto = {}\n",
    "lista_imagem = {}\n",
    "for signo in signos:\n",
    "    resposta = Request(url+signo,headers={'User-Agent': 'Mozilla/5.0'})\n",
    "    html = urlopen(resposta,timeout=10).read()\n",
    "    conteudo = BeautifulSoup(html, 'html.parser')\n",
    "    imagem = conteudo.p.img.get('src').replace('../static/img/','')\n",
    "    texto = conteudo.p.get_text()\n",
    "    lista_texto[signo] = texto.replace('\\n','')\n",
    "    lista_imagem[signo] = url_imagem+imagem"
   ]
  },
  {
   "cell_type": "code",
   "execution_count": null,
   "id": "3cb63255",
   "metadata": {},
   "outputs": [],
   "source": [
    "df_signos_descricao = pd.DataFrame(list(lista_texto.items()),\n",
    "                   columns=['Signos', 'Descrição'])"
   ]
  },
  {
   "cell_type": "code",
   "execution_count": null,
   "id": "a12e833e",
   "metadata": {},
   "outputs": [],
   "source": [
    "df_signos_imagens = pd.DataFrame(list(lista_imagem.items()),\n",
    "                   columns=['Signos', 'Imagem'])"
   ]
  },
  {
   "cell_type": "code",
   "execution_count": null,
   "id": "1154c1ae",
   "metadata": {},
   "outputs": [],
   "source": [
    "df_merge_signos = pd.merge(df_signos_descricao,df_signos_imagens, how='right', on = 'Signos')"
   ]
  },
  {
   "cell_type": "code",
   "execution_count": null,
   "id": "5d165077",
   "metadata": {},
   "outputs": [],
   "source": [
    "df_merge_signos"
   ]
  },
  {
   "cell_type": "code",
   "execution_count": null,
   "id": "d1a31f97",
   "metadata": {},
   "outputs": [],
   "source": [
    "scopes = [\"https://www.googleapis.com/auth/spreadsheets\",\n",
    "          \"https://www.googleapis.com/auth/drive\"]"
   ]
  },
  {
   "cell_type": "code",
   "execution_count": null,
   "id": "30d0eb6f",
   "metadata": {},
   "outputs": [],
   "source": [
    "json_file = 'chave/' + str(os.listdir('chave/')[0])"
   ]
  },
  {
   "cell_type": "code",
   "execution_count": null,
   "id": "f87c6d1a",
   "metadata": {},
   "outputs": [],
   "source": [
    "credentials = service_account.Credentials.from_service_account_file(json_file)\n",
    "scoped_credentials = credentials.with_scopes(scopes)\n",
    "gc = gspread.authorize(scoped_credentials)"
   ]
  },
  {
   "cell_type": "code",
   "execution_count": null,
   "id": "bade9da2",
   "metadata": {},
   "outputs": [],
   "source": [
    "plan_aux = gc.open(\"BotTelegram\")\n",
    "aba_aux = plan_aux.worksheet(\"Teste\")"
   ]
  },
  {
   "cell_type": "code",
   "execution_count": null,
   "id": "d870c173",
   "metadata": {},
   "outputs": [],
   "source": [
    "aba_aux.update([df_merge_signos.columns.values.tolist()] + df_merge_signos.values.tolist())"
   ]
  }
 ],
 "metadata": {
  "kernelspec": {
   "display_name": "Python 3",
   "language": "python",
   "name": "python3"
  },
  "language_info": {
   "codemirror_mode": {
    "name": "ipython",
    "version": 3
   },
   "file_extension": ".py",
   "mimetype": "text/x-python",
   "name": "python",
   "nbconvert_exporter": "python",
   "pygments_lexer": "ipython3",
   "version": "3.8.8"
  }
 },
 "nbformat": 4,
 "nbformat_minor": 5
}
