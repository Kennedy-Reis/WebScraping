{
 "cells": [
  {
   "cell_type": "code",
   "execution_count": 1,
   "id": "50d6032b",
   "metadata": {},
   "outputs": [],
   "source": [
    "import gspread\n",
    "import os\n",
    "import pandas as pd\n",
    "from gspread_dataframe import set_with_dataframe\n",
    "from google.oauth2 import service_account\n",
    "from bs4 import BeautifulSoup\n",
    "from urllib.request import urlopen,Request"
   ]
  },
  {
   "cell_type": "code",
   "execution_count": 2,
   "id": "887f6de0",
   "metadata": {},
   "outputs": [],
   "source": [
    "signos = ['aries','touro','gemeos','cancer','leao','virgem','libra','escorpiao','sagitario','capricornio','aquario','peixes']"
   ]
  },
  {
   "cell_type": "code",
   "execution_count": 3,
   "id": "417dcf28",
   "metadata": {},
   "outputs": [],
   "source": [
    "url = 'https://joaobidu.com.br/horoscopo/signos/previsao-'"
   ]
  },
  {
   "cell_type": "code",
   "execution_count": 4,
   "id": "1cb8e8f6",
   "metadata": {},
   "outputs": [],
   "source": [
    "url_imagem = 'https://joaobidu.com.br/static/img/'"
   ]
  },
  {
   "cell_type": "code",
   "execution_count": 5,
   "id": "64cdcee3",
   "metadata": {},
   "outputs": [],
   "source": [
    "lista_texto = {}\n",
    "lista_imagem = {}\n",
    "for signo in signos:\n",
    "    resposta = Request(url+signo,headers={'User-Agent': 'Mozilla/5.0'})\n",
    "    html = urlopen(resposta,timeout=10).read()\n",
    "    conteudo = BeautifulSoup(html, 'html.parser')\n",
    "    imagem = conteudo.p.img.get('src').replace('../static/img/','')\n",
    "    texto = conteudo.p.get_text()\n",
    "    lista_texto[signo] = texto.replace('\\n','')\n",
    "    lista_imagem[signo] = url_imagem+imagem"
   ]
  },
  {
   "cell_type": "code",
   "execution_count": 6,
   "id": "3cb63255",
   "metadata": {},
   "outputs": [],
   "source": [
    "df_signos_descricao = pd.DataFrame(list(lista_texto.items()),\n",
    "                   columns=['Signos', 'Descrição'])"
   ]
  },
  {
   "cell_type": "code",
   "execution_count": 7,
   "id": "a12e833e",
   "metadata": {},
   "outputs": [],
   "source": [
    "df_signos_imagens = pd.DataFrame(list(lista_imagem.items()),\n",
    "                   columns=['Signos', 'Imagem'])"
   ]
  },
  {
   "cell_type": "code",
   "execution_count": 8,
   "id": "1154c1ae",
   "metadata": {},
   "outputs": [],
   "source": [
    "df_merge_signos = pd.merge(df_signos_descricao,df_signos_imagens, how='right', on = 'Signos')"
   ]
  },
  {
   "cell_type": "code",
   "execution_count": 9,
   "id": "5d165077",
   "metadata": {},
   "outputs": [
    {
     "data": {
      "text/html": [
       "<div>\n",
       "<style scoped>\n",
       "    .dataframe tbody tr th:only-of-type {\n",
       "        vertical-align: middle;\n",
       "    }\n",
       "\n",
       "    .dataframe tbody tr th {\n",
       "        vertical-align: top;\n",
       "    }\n",
       "\n",
       "    .dataframe thead th {\n",
       "        text-align: right;\n",
       "    }\n",
       "</style>\n",
       "<table border=\"1\" class=\"dataframe\">\n",
       "  <thead>\n",
       "    <tr style=\"text-align: right;\">\n",
       "      <th></th>\n",
       "      <th>Signos</th>\n",
       "      <th>Descrição</th>\n",
       "      <th>Imagem</th>\n",
       "    </tr>\n",
       "  </thead>\n",
       "  <tbody>\n",
       "    <tr>\n",
       "      <th>0</th>\n",
       "      <td>aries</td>\n",
       "      <td>SEX - A semana está acabando e, com a Lua de m...</td>\n",
       "      <td>https://joaobidu.com.br/static/img/ico-aries.png</td>\n",
       "    </tr>\n",
       "    <tr>\n",
       "      <th>1</th>\n",
       "      <td>touro</td>\n",
       "      <td>SEX - Com a entrada da Lua em Câncer nesta mad...</td>\n",
       "      <td>https://joaobidu.com.br/static/img/ico-touro.png</td>\n",
       "    </tr>\n",
       "    <tr>\n",
       "      <th>2</th>\n",
       "      <td>gemeos</td>\n",
       "      <td>SEX - Sextou, meu bem, e com a Lua brilhando l...</td>\n",
       "      <td>https://joaobidu.com.br/static/img/ico-gemeos.png</td>\n",
       "    </tr>\n",
       "    <tr>\n",
       "      <th>3</th>\n",
       "      <td>cancer</td>\n",
       "      <td>SEX - A Lua brilha em seu signo a partir de ho...</td>\n",
       "      <td>https://joaobidu.com.br/static/img/ico-cancer.png</td>\n",
       "    </tr>\n",
       "    <tr>\n",
       "      <th>4</th>\n",
       "      <td>leao</td>\n",
       "      <td>SEX - Nessa madrugada, a Lua se muda para seu ...</td>\n",
       "      <td>https://joaobidu.com.br/static/img/ico-leao.png</td>\n",
       "    </tr>\n",
       "    <tr>\n",
       "      <th>5</th>\n",
       "      <td>virgem</td>\n",
       "      <td>SEX - Sextou, virginiane, e o seu lado sonhado...</td>\n",
       "      <td>https://joaobidu.com.br/static/img/ico-virgem.png</td>\n",
       "    </tr>\n",
       "    <tr>\n",
       "      <th>6</th>\n",
       "      <td>libra</td>\n",
       "      <td>SEX - A gloriosa sexta chegou, mas a entrada d...</td>\n",
       "      <td>https://joaobidu.com.br/static/img/ico-libra.png</td>\n",
       "    </tr>\n",
       "    <tr>\n",
       "      <th>7</th>\n",
       "      <td>escorpiao</td>\n",
       "      <td>SEX - Com a Lua brilhando em Câncer a partir d...</td>\n",
       "      <td>https://joaobidu.com.br/static/img/ico-escorpi...</td>\n",
       "    </tr>\n",
       "    <tr>\n",
       "      <th>8</th>\n",
       "      <td>sagitario</td>\n",
       "      <td>SEX - A Lua está indicando um período de trans...</td>\n",
       "      <td>https://joaobidu.com.br/static/img/ico-sagitar...</td>\n",
       "    </tr>\n",
       "    <tr>\n",
       "      <th>9</th>\n",
       "      <td>capricornio</td>\n",
       "      <td>SEX - Sextou, bebê, e com a Lua na sua Casa do...</td>\n",
       "      <td>https://joaobidu.com.br/static/img/ico-caprico...</td>\n",
       "    </tr>\n",
       "    <tr>\n",
       "      <th>10</th>\n",
       "      <td>aquario</td>\n",
       "      <td>SEX - Com a Lua de mudança para Câncer nesta m...</td>\n",
       "      <td>https://joaobidu.com.br/static/img/ico-aquario...</td>\n",
       "    </tr>\n",
       "    <tr>\n",
       "      <th>11</th>\n",
       "      <td>peixes</td>\n",
       "      <td>SEX - Hoje, a Lua brilha em seu paraíso astral...</td>\n",
       "      <td>https://joaobidu.com.br/static/img/ico-peixes.png</td>\n",
       "    </tr>\n",
       "  </tbody>\n",
       "</table>\n",
       "</div>"
      ],
      "text/plain": [
       "         Signos                                          Descrição  \\\n",
       "0         aries  SEX - A semana está acabando e, com a Lua de m...   \n",
       "1         touro  SEX - Com a entrada da Lua em Câncer nesta mad...   \n",
       "2        gemeos  SEX - Sextou, meu bem, e com a Lua brilhando l...   \n",
       "3        cancer  SEX - A Lua brilha em seu signo a partir de ho...   \n",
       "4          leao  SEX - Nessa madrugada, a Lua se muda para seu ...   \n",
       "5        virgem  SEX - Sextou, virginiane, e o seu lado sonhado...   \n",
       "6         libra  SEX - A gloriosa sexta chegou, mas a entrada d...   \n",
       "7     escorpiao  SEX - Com a Lua brilhando em Câncer a partir d...   \n",
       "8     sagitario  SEX - A Lua está indicando um período de trans...   \n",
       "9   capricornio  SEX - Sextou, bebê, e com a Lua na sua Casa do...   \n",
       "10      aquario  SEX - Com a Lua de mudança para Câncer nesta m...   \n",
       "11       peixes  SEX - Hoje, a Lua brilha em seu paraíso astral...   \n",
       "\n",
       "                                               Imagem  \n",
       "0    https://joaobidu.com.br/static/img/ico-aries.png  \n",
       "1    https://joaobidu.com.br/static/img/ico-touro.png  \n",
       "2   https://joaobidu.com.br/static/img/ico-gemeos.png  \n",
       "3   https://joaobidu.com.br/static/img/ico-cancer.png  \n",
       "4     https://joaobidu.com.br/static/img/ico-leao.png  \n",
       "5   https://joaobidu.com.br/static/img/ico-virgem.png  \n",
       "6    https://joaobidu.com.br/static/img/ico-libra.png  \n",
       "7   https://joaobidu.com.br/static/img/ico-escorpi...  \n",
       "8   https://joaobidu.com.br/static/img/ico-sagitar...  \n",
       "9   https://joaobidu.com.br/static/img/ico-caprico...  \n",
       "10  https://joaobidu.com.br/static/img/ico-aquario...  \n",
       "11  https://joaobidu.com.br/static/img/ico-peixes.png  "
      ]
     },
     "execution_count": 9,
     "metadata": {},
     "output_type": "execute_result"
    }
   ],
   "source": [
    "df_merge_signos"
   ]
  },
  {
   "cell_type": "code",
   "execution_count": 10,
   "id": "d1a31f97",
   "metadata": {},
   "outputs": [],
   "source": [
    "scopes = [\"https://www.googleapis.com/auth/spreadsheets\",\n",
    "          \"https://www.googleapis.com/auth/drive\"]"
   ]
  },
  {
   "cell_type": "code",
   "execution_count": 11,
   "id": "30d0eb6f",
   "metadata": {},
   "outputs": [],
   "source": [
    "json_file = 'chave/' + str(os.listdir('chave/')[0])"
   ]
  },
  {
   "cell_type": "code",
   "execution_count": 12,
   "id": "f87c6d1a",
   "metadata": {},
   "outputs": [],
   "source": [
    "credentials = service_account.Credentials.from_service_account_file(json_file)\n",
    "scoped_credentials = credentials.with_scopes(scopes)\n",
    "gc = gspread.authorize(scoped_credentials)"
   ]
  },
  {
   "cell_type": "code",
   "execution_count": 13,
   "id": "bade9da2",
   "metadata": {},
   "outputs": [],
   "source": [
    "plan_aux = gc.open(\"BotTelegram\")\n",
    "aba_aux = plan_aux.worksheet(\"Teste\")"
   ]
  },
  {
   "cell_type": "code",
   "execution_count": 14,
   "id": "d870c173",
   "metadata": {},
   "outputs": [
    {
     "data": {
      "text/plain": [
       "{'spreadsheetId': '1BAtnINF33KdEYHbVyuJ7tKYi4k94ZnaX51yIwaO4XC4',\n",
       " 'updatedRange': 'Teste!A1:C13',\n",
       " 'updatedRows': 13,\n",
       " 'updatedColumns': 3,\n",
       " 'updatedCells': 39}"
      ]
     },
     "execution_count": 14,
     "metadata": {},
     "output_type": "execute_result"
    }
   ],
   "source": [
    "aba_aux.update([df_merge_signos.columns.values.tolist()] + df_merge_signos.values.tolist())"
   ]
  }
 ],
 "metadata": {
  "kernelspec": {
   "display_name": "Python 3",
   "language": "python",
   "name": "python3"
  },
  "language_info": {
   "codemirror_mode": {
    "name": "ipython",
    "version": 3
   },
   "file_extension": ".py",
   "mimetype": "text/x-python",
   "name": "python",
   "nbconvert_exporter": "python",
   "pygments_lexer": "ipython3",
   "version": "3.8.8"
  }
 },
 "nbformat": 4,
 "nbformat_minor": 5
}
